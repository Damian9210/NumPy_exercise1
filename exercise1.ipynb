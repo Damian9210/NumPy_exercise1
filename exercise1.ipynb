{
 "cells": [
  {
   "cell_type": "code",
   "execution_count": 122,
   "id": "834688d7",
   "metadata": {},
   "outputs": [],
   "source": [
    "import sys\n",
    "import json\n",
    "import numpy as np\n",
    "import urllib.request"
   ]
  },
  {
   "cell_type": "code",
   "execution_count": 123,
   "id": "6d3d836e",
   "metadata": {},
   "outputs": [],
   "source": [
    "url1 = 'https://gist.githubusercontent.com/aakashns/257f6e6c8719c17d0e498ea287d1a386/raw/7def9ef4234ddf0bc82f855ad67dac8b971852ef/loans3.txt'"
   ]
  },
  {
   "cell_type": "code",
   "execution_count": 124,
   "id": "0656e5fe",
   "metadata": {},
   "outputs": [
    {
     "data": {
      "text/plain": [
       "('./loans3.txt', <http.client.HTTPMessage at 0x27298382700>)"
      ]
     },
     "execution_count": 124,
     "metadata": {},
     "output_type": "execute_result"
    }
   ],
   "source": [
    "urllib.request.urlretrieve(url1, \"./loans3.txt\")"
   ]
  },
  {
   "cell_type": "code",
   "execution_count": 125,
   "id": "48377013",
   "metadata": {},
   "outputs": [],
   "source": [
    "with open(\"./loans3.txt\",\"r\") as file:\n",
    "    file_lines=file.readlines()\n",
    "    \n"
   ]
  },
  {
   "cell_type": "code",
   "execution_count": 126,
   "id": "b2ee78bb",
   "metadata": {},
   "outputs": [],
   "source": [
    "def parse_header(header_line):\n",
    "    return header_line.strip().split(\",\")"
   ]
  },
  {
   "cell_type": "code",
   "execution_count": 127,
   "id": "6d48bf15",
   "metadata": {},
   "outputs": [],
   "source": [
    "def parse_values(line):\n",
    "    values=[]\n",
    "    for item in line.strip().split(','):\n",
    "        if item==\"\":\n",
    "            values.append(0.0)\n",
    "        else:\n",
    "            values.append(item)\n",
    "    return values\n",
    "            "
   ]
  },
  {
   "cell_type": "code",
   "execution_count": 78,
   "id": "f8860cfa",
   "metadata": {},
   "outputs": [],
   "source": [
    "def create_dictionary(values,header):\n",
    "    result={}\n",
    "    for value,header in zip(values,header):\n",
    "        result[header]=value\n",
    "    return result"
   ]
  },
  {
   "cell_type": "code",
   "execution_count": 128,
   "id": "07844acf",
   "metadata": {},
   "outputs": [],
   "source": [
    "def read(path):\n",
    "    result=[]\n",
    "    with open(path,\"r\") as file:\n",
    "        lines=file.readlines()\n",
    "        header=parse_header(lines[0])\n",
    "        for line in lines[1:]:\n",
    "            values=parse_values(line)\n",
    "            dictionary=create_dictionary(values,header)\n",
    "            result.append(dictionary)\n",
    "    return(result)\n",
    "        "
   ]
  },
  {
   "cell_type": "code",
   "execution_count": 129,
   "id": "9088e5ed",
   "metadata": {},
   "outputs": [],
   "source": [
    "new_file=read(\"./loans3.txt\")"
   ]
  },
  {
   "cell_type": "code",
   "execution_count": 130,
   "id": "4a7aba06",
   "metadata": {},
   "outputs": [],
   "source": [
    "with open (\"new_loans_file.json\",\"w\") as f:\n",
    "    json.dump(new_file, f, indent=2)"
   ]
  }
 ],
 "metadata": {
  "kernelspec": {
   "display_name": "Python 3 (ipykernel)",
   "language": "python",
   "name": "python3"
  },
  "language_info": {
   "codemirror_mode": {
    "name": "ipython",
    "version": 3
   },
   "file_extension": ".py",
   "mimetype": "text/x-python",
   "name": "python",
   "nbconvert_exporter": "python",
   "pygments_lexer": "ipython3",
   "version": "3.9.12"
  }
 },
 "nbformat": 4,
 "nbformat_minor": 5
}
